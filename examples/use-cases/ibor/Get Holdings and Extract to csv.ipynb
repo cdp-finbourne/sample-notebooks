{
 "cells": [
  {
   "cell_type": "code",
   "execution_count": 1,
   "id": "ece57482",
   "metadata": {},
   "outputs": [
    {
     "data": {
      "text/plain": [
       "'Get Holdings\\n\\nShows how to use the Get Holdings endpoint and extract it to a csv\\n\\nAttributes\\n----------\\nholdings\\ntransaction portfolios\\n'"
      ]
     },
     "execution_count": 1,
     "metadata": {},
     "output_type": "execute_result"
    }
   ],
   "source": [
    "\"\"\"Get Holdings\n",
    "\n",
    "Shows how to use the Get Holdings endpoint and extract it to a csv\n",
    "\n",
    "Attributes\n",
    "----------\n",
    "holdings\n",
    "transaction portfolios\n",
    "\"\"\""
   ]
  },
  {
   "cell_type": "markdown",
   "id": "b9876ab9",
   "metadata": {},
   "source": [
    "# Set up LUSID"
   ]
  },
  {
   "cell_type": "code",
   "execution_count": 2,
   "id": "0be15b73",
   "metadata": {},
   "outputs": [],
   "source": [
    "# Import general purpose packages\n",
    "import os\n",
    "import json\n",
    "from datetime import datetime, timedelta\n",
    "import pytz\n",
    "\n",
    "# Import lusid specific packages\n",
    "import lusid\n",
    "import lusid.models as models\n",
    "from lusid.exceptions import ApiException\n",
    "from lusid.utilities import ApiClientFactory\n",
    "from lusidjam.refreshing_token import RefreshingToken\n",
    "from lusidtools.pandas_utils.lusid_pandas import lusid_response_to_data_frame\n",
    "from lusidtools.cocoon.seed_sample_data import seed_data\n",
    "from lusidtools.cocoon.utilities import create_scope_id\n",
    "\n",
    "# Import data wrangling packages\n",
    "import pandas as pd\n",
    "\n",
    "pd.set_option(\"display.max_columns\", None)\n",
    "\n",
    "# Authenticate our user and create our API client\n",
    "secrets_path = os.getenv(\"FBN_SECRETS_PATH\")\n",
    "\n",
    "# Initiate an API Factory which is the client side object for interacting with LUSID APIs\n",
    "api_factory = lusid.utilities.ApiClientFactory(\n",
    "    token=RefreshingToken(),\n",
    "    api_secrets_filename=secrets_path,\n",
    "    app_name=\"LusidJupyterNotebook\",\n",
    ")"
   ]
  },
  {
   "cell_type": "markdown",
   "id": "9a7ad177",
   "metadata": {},
   "source": [
    "# 1. Set up API"
   ]
  },
  {
   "cell_type": "code",
   "execution_count": 3,
   "id": "72fa4a7f",
   "metadata": {},
   "outputs": [],
   "source": [
    "transaction_portfolio_api = api_factory.build(lusid.api.TransactionPortfoliosApi)"
   ]
  },
  {
   "cell_type": "markdown",
   "id": "b68e9dad",
   "metadata": {},
   "source": [
    "# 2. Run query and append data"
   ]
  },
  {
   "cell_type": "code",
   "execution_count": 4,
   "id": "a64936b8",
   "metadata": {},
   "outputs": [],
   "source": [
    "port_list=[\"Global-Equity\",\n",
    "\"UK-Equities\",\n",
    "\"US-Corporate-Bond\",\n",
    "\"US-Treasury-Bond\"]\n",
    "csv_file = 'holdings_extract.csv'"
   ]
  },
  {
   "cell_type": "code",
   "execution_count": null,
   "id": "c0742252",
   "metadata": {},
   "outputs": [],
   "source": [
    "holdings = [lusid_response_to_data_frame(transaction_portfolio_api.get_holdings(scope='Finbourne-Examples', code=code),rename_properties=True)\n",
    "            for code in port_list]"
   ]
  },
  {
   "cell_type": "code",
   "execution_count": null,
   "id": "de9b015d",
   "metadata": {
    "pycharm": {
     "name": "#%%\n"
    }
   },
   "outputs": [],
   "source": [
    "holdings = pd.concat(holdings)\n",
    "holdings.to_csv(csv_file)"
   ]
  },
  {
   "cell_type": "markdown",
   "id": "36a3cb01-837f-4541-ad38-8eecfc055f19",
   "metadata": {},
   "source": [
    "# 3. Read in CSV and output"
   ]
  },
  {
   "cell_type": "code",
   "execution_count": null,
   "id": "a1bdf187-fd12-4d38-a947-4907d2687eca",
   "metadata": {},
   "outputs": [],
   "source": [
    "extract_file = pd.read_csv(csv_file, index_col=0)\n",
    "extract_file"
   ]
  }
 ],
 "metadata": {
  "kernelspec": {
   "display_name": "Python 3 (ipykernel)",
   "language": "python",
   "name": "python3"
  },
  "language_info": {
   "codemirror_mode": {
    "name": "ipython",
    "version": 3
   },
   "file_extension": ".py",
   "mimetype": "text/x-python",
   "name": "python",
   "nbconvert_exporter": "python",
   "pygments_lexer": "ipython3",
   "version": "3.11.5"
  }
 },
 "nbformat": 4,
 "nbformat_minor": 5
}
