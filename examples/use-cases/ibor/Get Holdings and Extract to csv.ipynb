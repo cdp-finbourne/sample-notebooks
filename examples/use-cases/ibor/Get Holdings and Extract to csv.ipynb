{
 "cells": [
  {
   "cell_type": "code",
   "execution_count": 1,
   "id": "ece57482",
   "metadata": {},
   "outputs": [
    {
     "data": {
      "text/plain": [
       "'Get Holdings\\n\\nShows how to use the Get Holdings endpoint and extract it to a csv\\n\\nAttributes\\n----------\\nholdings\\ntransaction portfolios\\n'"
      ]
     },
     "execution_count": 1,
     "metadata": {},
     "output_type": "execute_result"
    }
   ],
   "source": [
    "\"\"\"Get Holdings\n",
    "\n",
    "Shows how to use the Get Holdings endpoint and extract it to a csv\n",
    "\n",
    "Attributes\n",
    "----------\n",
    "holdings\n",
    "transaction portfolios\n",
    "\"\"\""
   ]
  },
  {
   "cell_type": "markdown",
   "id": "b9876ab9",
   "metadata": {},
   "source": [
    "# Set up LUSID"
   ]
  },
  {
   "cell_type": "code",
   "execution_count": 2,
   "id": "0be15b73",
   "metadata": {},
   "outputs": [],
   "source": [
    "# Import general purpose packages\n",
    "import os\n",
    "import json\n",
    "from datetime import datetime, timedelta\n",
    "import pytz\n",
    "\n",
    "# Import lusid specific packages\n",
    "import lusid\n",
    "import lusid.models as models\n",
    "from lusid.exceptions import ApiException\n",
    "from lusid.utilities import ApiClientFactory\n",
    "from lusidjam.refreshing_token import RefreshingToken\n",
    "from lusidtools.pandas_utils.lusid_pandas import lusid_response_to_data_frame\n",
    "from lusidtools.cocoon.seed_sample_data import seed_data\n",
    "from lusidtools.cocoon.utilities import create_scope_id\n",
    "\n",
    "# Import data wrangling packages\n",
    "import pandas as pd\n",
    "\n",
    "pd.set_option(\"display.max_columns\", None)\n",
    "\n",
    "# Authenticate our user and create our API client\n",
    "secrets_path = os.getenv(\"FBN_SECRETS_PATH\")\n",
    "\n",
    "# Initiate an API Factory which is the client side object for interacting with LUSID APIs\n",
    "api_factory = lusid.utilities.ApiClientFactory(\n",
    "    token=RefreshingToken(),\n",
    "    api_secrets_filename=secrets_path,\n",
    "    app_name=\"LusidJupyterNotebook\",\n",
    ")"
   ]
  },
  {
   "cell_type": "markdown",
   "id": "9a7ad177",
   "metadata": {},
   "source": [
    "# 1. Set up API"
   ]
  },
  {
   "cell_type": "code",
   "execution_count": 3,
   "id": "72fa4a7f",
   "metadata": {},
   "outputs": [],
   "source": [
    "transaction_portfolio_api = api_factory.build(lusid.api.TransactionPortfoliosApi)"
   ]
  },
  {
   "cell_type": "markdown",
   "id": "b68e9dad",
   "metadata": {},
   "source": [
    "# 2. Run query and append data"
   ]
  },
  {
   "cell_type": "code",
   "execution_count": 4,
   "id": "a64936b8",
   "metadata": {},
   "outputs": [],
   "source": [
    "port_list=[\"Global-Equity\",\n",
    "\"UK-Equities\",\n",
    "\"US-Corporate-Bond\",\n",
    "\"US-Treasury-Bond\"]\n",
    "csv_file = 'holdings_extract.csv'"
   ]
  },
  {
   "cell_type": "code",
   "execution_count": 5,
   "id": "c0742252",
   "metadata": {},
   "outputs": [],
   "source": [
    "holdings = [lusid_response_to_data_frame(transaction_portfolio_api.get_holdings(scope='Finbourne-Examples', code=code),rename_properties=True)\n",
    "            for code in port_list]"
   ]
  },
  {
   "cell_type": "code",
   "execution_count": 6,
   "id": "de9b015d",
   "metadata": {
    "pycharm": {
     "name": "#%%\n"
    }
   },
   "outputs": [
    {
     "ename": "TypeError",
     "evalue": "NDFrame.to_csv() got an unexpected keyword argument 'index_col'",
     "output_type": "error",
     "traceback": [
      "\u001b[0;31m---------------------------------------------------------------------------\u001b[0m",
      "\u001b[0;31mTypeError\u001b[0m                                 Traceback (most recent call last)",
      "Cell \u001b[0;32mIn[6], line 2\u001b[0m\n\u001b[1;32m      1\u001b[0m holdings \u001b[38;5;241m=\u001b[39m pd\u001b[38;5;241m.\u001b[39mconcat(holdings)\n\u001b[0;32m----> 2\u001b[0m \u001b[43mholdings\u001b[49m\u001b[38;5;241;43m.\u001b[39;49m\u001b[43mto_csv\u001b[49m\u001b[43m(\u001b[49m\u001b[43mcsv_file\u001b[49m\u001b[43m,\u001b[49m\u001b[43mindex_col\u001b[49m\u001b[38;5;241;43m=\u001b[39;49m\u001b[38;5;28;43;01mFalse\u001b[39;49;00m\u001b[43m)\u001b[49m\n",
      "\u001b[0;31mTypeError\u001b[0m: NDFrame.to_csv() got an unexpected keyword argument 'index_col'"
     ]
    }
   ],
   "source": [
    "holdings = pd.concat(holdings)\n",
    "holdings.to_csv(csv_file,index_col=False)"
   ]
  },
  {
   "cell_type": "markdown",
   "id": "36a3cb01-837f-4541-ad38-8eecfc055f19",
   "metadata": {},
   "source": [
    "# 3. Read in CSV and output"
   ]
  },
  {
   "cell_type": "code",
   "execution_count": null,
   "id": "a1bdf187-fd12-4d38-a947-4907d2687eca",
   "metadata": {},
   "outputs": [],
   "source": [
    "extract_file = pd.read_csv(csv_file)\n",
    "extract_file"
   ]
  },
  {
   "cell_type": "code",
   "execution_count": null,
   "id": "0fec839b-3a6f-4fed-8c56-f1e0d04575f7",
   "metadata": {},
   "outputs": [],
   "source": []
  }
 ],
 "metadata": {
  "kernelspec": {
   "display_name": "Python 3 (ipykernel)",
   "language": "python",
   "name": "python3"
  },
  "language_info": {
   "codemirror_mode": {
    "name": "ipython",
    "version": 3
   },
   "file_extension": ".py",
   "mimetype": "text/x-python",
   "name": "python",
   "nbconvert_exporter": "python",
   "pygments_lexer": "ipython3",
   "version": "3.11.5"
  }
 },
 "nbformat": 4,
 "nbformat_minor": 5
}
